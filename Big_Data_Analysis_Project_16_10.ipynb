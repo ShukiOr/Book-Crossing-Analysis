{
  "nbformat": 4,
  "nbformat_minor": 0,
  "metadata": {
    "colab": {
      "name": "Copy of Big_Data_Analysis_Project_16.10.ipynb",
      "provenance": [],
      "collapsed_sections": []
    },
    "kernelspec": {
      "name": "python3",
      "display_name": "Python 3"
    },
    "language_info": {
      "name": "python"
    }
  },
  "cells": [
    {
      "cell_type": "markdown",
      "metadata": {
        "id": "zznsrcGth0Cm"
      },
      "source": [
        "# Big Data Project\n",
        "\n",
        "Book Crossing DataSet <br>\n",
        "** October 2021 ** <br>\n",
        "<br>\n",
        "<div class=\"alert alert-block alert-warning\">\n",
        "<b>PRESNTED BY:  </b> \n",
        "<strong>Or Shukrun  |  Mary Azencot |  Luba Zameslov <strong>\n",
        "</div>\n",
        "<br> <hr class=\"dotted\"> <br>"
      ]
    },
    {
      "cell_type": "markdown",
      "metadata": {
        "id": "DmzUQEM-ksKk"
      },
      "source": [
        "### Apache Spark and Collab installation\n",
        "\n",
        "  1) Install Java, Spark\n",
        "\n",
        "  2) Set Environment Variables\n",
        "\n",
        "  3) Start Spark Session"
      ]
    },
    {
      "cell_type": "code",
      "metadata": {
        "colab": {
          "base_uri": "https://localhost:8080/"
        },
        "id": "rB3sn2iAhr3r",
        "outputId": "97bb1deb-f0df-45dc-8140-27160d10a6d1"
      },
      "source": [
        "!apt update\n",
        "!apt-get install openjdk-8-jdk-headless -qq > /dev/null \n",
        "!wget -q https://downloads.apache.org/spark/spark-3.1.2/spark-3.1.2-bin-hadoop3.2.tgz \n",
        "!tar xf spark-3.1.2-bin-hadoop3.2.tgz \n",
        "!pip install -q findspark"
      ],
      "execution_count": null,
      "outputs": [
        {
          "output_type": "stream",
          "name": "stdout",
          "text": [
            "Get:1 http://security.ubuntu.com/ubuntu bionic-security InRelease [88.7 kB]\n",
            "Get:2 https://cloud.r-project.org/bin/linux/ubuntu bionic-cran40/ InRelease [3,626 B]\n",
            "Ign:3 https://developer.download.nvidia.com/compute/cuda/repos/ubuntu1804/x86_64  InRelease\n",
            "Hit:4 http://ppa.launchpad.net/c2d4u.team/c2d4u4.0+/ubuntu bionic InRelease\n",
            "Hit:5 http://archive.ubuntu.com/ubuntu bionic InRelease\n",
            "Ign:6 https://developer.download.nvidia.com/compute/machine-learning/repos/ubuntu1804/x86_64  InRelease\n",
            "Hit:7 https://developer.download.nvidia.com/compute/cuda/repos/ubuntu1804/x86_64  Release\n",
            "Hit:8 https://developer.download.nvidia.com/compute/machine-learning/repos/ubuntu1804/x86_64  Release\n",
            "Get:9 http://archive.ubuntu.com/ubuntu bionic-updates InRelease [88.7 kB]\n",
            "Hit:10 http://ppa.launchpad.net/cran/libgit2/ubuntu bionic InRelease\n",
            "Get:11 http://security.ubuntu.com/ubuntu bionic-security/universe amd64 Packages [1,431 kB]\n",
            "Hit:12 http://ppa.launchpad.net/deadsnakes/ppa/ubuntu bionic InRelease\n",
            "Get:13 http://security.ubuntu.com/ubuntu bionic-security/restricted amd64 Packages [607 kB]\n",
            "Get:14 http://security.ubuntu.com/ubuntu bionic-security/main amd64 Packages [2,367 kB]\n",
            "Get:15 http://archive.ubuntu.com/ubuntu bionic-backports InRelease [74.6 kB]\n",
            "Hit:16 http://ppa.launchpad.net/graphics-drivers/ppa/ubuntu bionic InRelease\n",
            "Get:19 http://archive.ubuntu.com/ubuntu bionic-updates/main amd64 Packages [2,803 kB]\n",
            "Get:20 http://archive.ubuntu.com/ubuntu bionic-updates/restricted amd64 Packages [640 kB]\n",
            "Get:21 http://archive.ubuntu.com/ubuntu bionic-updates/universe amd64 Packages [2,210 kB]\n",
            "Fetched 10.3 MB in 3s (3,193 kB/s)\n",
            "Reading package lists... Done\n",
            "Building dependency tree       \n",
            "Reading state information... Done\n",
            "38 packages can be upgraded. Run 'apt list --upgradable' to see them.\n"
          ]
        }
      ]
    },
    {
      "cell_type": "code",
      "metadata": {
        "id": "PPc20WwGlLiP"
      },
      "source": [
        "import os\n",
        "os.environ[\"JAVA_HOME\"] = \"/usr/lib/jvm/java-8-openjdk-amd64\"\n",
        "os.environ[\"SPARK_HOME\"] = \"/content/spark-3.1.2-bin-hadoop3.2\""
      ],
      "execution_count": null,
      "outputs": []
    },
    {
      "cell_type": "code",
      "metadata": {
        "id": "X-_3YJ7NlSNr"
      },
      "source": [
        "import findspark\n",
        "findspark.init(\"spark-3.1.2-bin-hadoop3.2\") \n",
        "\n",
        "from pyspark.sql import SparkSession\n",
        "\n",
        "spark = SparkSession.builder.master(\"local[*]\").getOrCreate()\n",
        "\n",
        "from pyspark.sql import Row\n",
        "from pyspark.sql import functions"
      ],
      "execution_count": null,
      "outputs": []
    },
    {
      "cell_type": "markdown",
      "metadata": {
        "id": "yFPEp84SME1S"
      },
      "source": [
        "</div>\n",
        "<br> <hr class=\"dotted\"> <br>"
      ]
    },
    {
      "cell_type": "markdown",
      "metadata": {
        "id": "5LL9d0_Uln6d"
      },
      "source": [
        "### Establishing connection between \"Colab\" to \"Google Drive\""
      ]
    },
    {
      "cell_type": "code",
      "metadata": {
        "colab": {
          "base_uri": "https://localhost:8080/"
        },
        "id": "advdD5BflSQI",
        "outputId": "628d97cc-0bf7-42a4-f137-540f7a90389e"
      },
      "source": [
        "from google.colab import drive\n",
        "drive.mount('/content/drive')"
      ],
      "execution_count": null,
      "outputs": [
        {
          "output_type": "stream",
          "name": "stdout",
          "text": [
            "Mounted at /content/drive\n"
          ]
        }
      ]
    },
    {
      "cell_type": "code",
      "metadata": {
        "colab": {
          "base_uri": "https://localhost:8080/"
        },
        "id": "5ejo7VBllSSu",
        "outputId": "86af9cbb-b409-456c-c62e-2fc9b421b970"
      },
      "source": [
        "!ls \"/content/drive/MyDrive/BD Project\"   ### change the files path to your own device"
      ],
      "execution_count": null,
      "outputs": [
        {
          "output_type": "stream",
          "name": "stdout",
          "text": [
            "Big_Data_Analysis_Project.ipynb  BX-Books.csv\n",
            "BX-Book-Ratings.csv\t\t BX-Users.csv\n"
          ]
        }
      ]
    },
    {
      "cell_type": "markdown",
      "metadata": {
        "id": "yKsP_k0pMT-t"
      },
      "source": [
        "</div>\n",
        "<br> <hr class=\"dotted\"> <br>"
      ]
    },
    {
      "cell_type": "markdown",
      "metadata": {
        "id": "dz0C6Bl1nXZS"
      },
      "source": [
        "# Importing data to notebook"
      ]
    },
    {
      "cell_type": "code",
      "metadata": {
        "id": "p75NBCACpcOR"
      },
      "source": [
        "import pandas as pd\n",
        "import seaborn as sns\n",
        "import matplotlib.pyplot as plt\n",
        "import requests\n",
        "\n",
        "import pyspark\n",
        "from pyspark.sql import SparkSession"
      ],
      "execution_count": null,
      "outputs": []
    },
    {
      "cell_type": "code",
      "metadata": {
        "id": "PHVqEG_alSWT"
      },
      "source": [
        "#Users table\n",
        "users = spark.read.csv('/content/drive/MyDrive/BD Project/BX-Users.csv', inferSchema = True, header = True,sep='\"')\n",
        "\n",
        "#Books table\n",
        "items = spark.read.csv('/content/drive/MyDrive/BD Project/BX-Books.csv', inferSchema = True, header = True,sep='\"')\n",
        "\n",
        "#Ratings table\n",
        "ratings = spark.read.csv('/content/drive/MyDrive/BD Project/BX-Book-Ratings.csv', inferSchema = True, header = True,sep='\"')"
      ],
      "execution_count": null,
      "outputs": []
    },
    {
      "cell_type": "code",
      "metadata": {
        "colab": {
          "base_uri": "https://localhost:8080/"
        },
        "id": "opGuu_K5MgbR",
        "outputId": "d254fbae-42b6-4e18-e1ce-4f2484d7c127"
      },
      "source": [
        "users.show(5)"
      ],
      "execution_count": null,
      "outputs": [
        {
          "output_type": "stream",
          "name": "stdout",
          "text": [
            "+----+-------+---+--------------------+-----+----+----+\n",
            "| _c0|User-ID| ;2|            Location|   ;4| Age|   \"|\n",
            "+----+-------+---+--------------------+-----+----+----+\n",
            "|null|      1|  ;|  nyc, new york, usa|;NULL|null|null|\n",
            "|null|      2|  ;|stockton, califor...|    ;|  18|   \"|\n",
            "|null|      3|  ;|moscow, yukon ter...|;NULL|null|null|\n",
            "|null|      4|  ;|porto, v.n.gaia, ...|    ;|  17|   \"|\n",
            "|null|      5|  ;|farnborough, hant...|;NULL|null|null|\n",
            "+----+-------+---+--------------------+-----+----+----+\n",
            "only showing top 5 rows\n",
            "\n"
          ]
        }
      ]
    },
    {
      "cell_type": "code",
      "metadata": {
        "colab": {
          "base_uri": "https://localhost:8080/"
        },
        "id": "iikWAUwgMgd6",
        "outputId": "07e87006-96b0-49bc-f906-46f2f44ddba1"
      },
      "source": [
        "items.show(5)"
      ],
      "execution_count": null,
      "outputs": [
        {
          "output_type": "stream",
          "name": "stdout",
          "text": [
            "+----+----------+---+--------------------+---+--------------------+---+-------------------+---+--------------------+---+--------------------+---+--------------------+---+--------------------+---+\n",
            "| _c0|      ISBN| ;2|          Book-Title| ;4|         Book-Author| ;6|Year-Of-Publication| ;8|           Publisher|;10|         Image-URL-S|;12|         Image-URL-M|;14|         Image-URL-L|  \"|\n",
            "+----+----------+---+--------------------+---+--------------------+---+-------------------+---+--------------------+---+--------------------+---+--------------------+---+--------------------+---+\n",
            "|null|0195153448|  ;| Classical Mythology|  ;|  Mark P. O. Morford|  ;|               2002|  ;|Oxford University...|  ;|http://images.ama...|  ;|http://images.ama...|  ;|http://images.ama...|  \"|\n",
            "|null|0002005018|  ;|        Clara Callan|  ;|Richard Bruce Wright|  ;|               2001|  ;|HarperFlamingo Ca...|  ;|http://images.ama...|  ;|http://images.ama...|  ;|http://images.ama...|  \"|\n",
            "|null|0060973129|  ;|Decision in Normandy|  ;|        Carlo D'Este|  ;|               1991|  ;|     HarperPerennial|  ;|http://images.ama...|  ;|http://images.ama...|  ;|http://images.ama...|  \"|\n",
            "|null|0374157065|  ;|Flu: The Story of...|  ;|    Gina Bari Kolata|  ;|               1999|  ;|Farrar Straus Giroux|  ;|http://images.ama...|  ;|http://images.ama...|  ;|http://images.ama...|  \"|\n",
            "|null|0393045218|  ;|The Mummies of Ur...|  ;|     E. J. W. Barber|  ;|               1999|  ;|W. W. Norton &amp...|  ;|http://images.ama...|  ;|http://images.ama...|  ;|http://images.ama...|  \"|\n",
            "+----+----------+---+--------------------+---+--------------------+---+-------------------+---+--------------------+---+--------------------+---+--------------------+---+--------------------+---+\n",
            "only showing top 5 rows\n",
            "\n"
          ]
        }
      ]
    },
    {
      "cell_type": "code",
      "metadata": {
        "colab": {
          "base_uri": "https://localhost:8080/"
        },
        "id": "9sWzIv3kMggR",
        "outputId": "00769ecc-2ae4-4c05-8882-df5db2ee1b2c"
      },
      "source": [
        "ratings.show(5)"
      ],
      "execution_count": null,
      "outputs": [
        {
          "output_type": "stream",
          "name": "stdout",
          "text": [
            "+----+--------+----+----------+----+---+----+-----------+----+----+---+\n",
            "| _c0|User-ID;| _c2|      ISBN| _c4|  ;| _c6|Book-Rating| _c8| _c9| ,,|\n",
            "+----+--------+----+----------+----+---+----+-----------+----+----+---+\n",
            "|null| 276725;|null|034545104X|null|  ;|null|          0|null|null| ,,|\n",
            "|null| 276726;|null|0155061224|null|  ;|null|          5|null|null| ,,|\n",
            "|null| 276727;|null|0446520802|null|  ;|null|          0|null|null| ,,|\n",
            "|null| 276729;|null|052165615X|null|  ;|null|          3|null|null| ,,|\n",
            "|null| 276729;|null|0521795028|null|  ;|null|          6|null|null| ,,|\n",
            "+----+--------+----+----------+----+---+----+-----------+----+----+---+\n",
            "only showing top 5 rows\n",
            "\n"
          ]
        }
      ]
    },
    {
      "cell_type": "markdown",
      "metadata": {
        "id": "AYL82pVFPQc2"
      },
      "source": [
        "# Cleaning data "
      ]
    },
    {
      "cell_type": "markdown",
      "metadata": {
        "id": "n4qgDqtVZAyp"
      },
      "source": [
        "### Ratings Table"
      ]
    },
    {
      "cell_type": "code",
      "metadata": {
        "id": "0BSNfDjzMgi1"
      },
      "source": [
        "from pyspark.sql.functions import *"
      ],
      "execution_count": null,
      "outputs": []
    },
    {
      "cell_type": "code",
      "metadata": {
        "colab": {
          "base_uri": "https://localhost:8080/"
        },
        "id": "A4YjRwksMglX",
        "outputId": "ec4f66b5-1a4e-4db6-becc-e598c4d23fdd"
      },
      "source": [
        "ratings = ratings.withColumn('User-ID;', regexp_replace('User-ID;', ';', '')).withColumnRenamed('User-ID;', 'User-ID')\n",
        "df_Rating=ratings.select(['User-ID','ISBN','Book-Rating'])\n",
        "df_Rating.show()"
      ],
      "execution_count": null,
      "outputs": [
        {
          "output_type": "stream",
          "name": "stdout",
          "text": [
            "+-------+----------+-----------+\n",
            "|User-ID|      ISBN|Book-Rating|\n",
            "+-------+----------+-----------+\n",
            "| 276725|034545104X|          0|\n",
            "| 276726|0155061224|          5|\n",
            "| 276727|0446520802|          0|\n",
            "| 276729|052165615X|          3|\n",
            "| 276729|0521795028|          6|\n",
            "| 276733|2080674722|          0|\n",
            "| 276736|3257224281|          8|\n",
            "| 276737|0600570967|          6|\n",
            "| 276744|038550120X|          7|\n",
            "| 276745| 342310538|         10|\n",
            "| 276746|0425115801|          0|\n",
            "| 276746|0449006522|          0|\n",
            "| 276746|0553561618|          0|\n",
            "| 276746|055356451X|          0|\n",
            "| 276746|0786013990|          0|\n",
            "| 276746|0786014512|          0|\n",
            "| 276747|0060517794|          9|\n",
            "| 276747|0451192001|          0|\n",
            "| 276747|0609801279|          0|\n",
            "| 276747|0671537458|          9|\n",
            "+-------+----------+-----------+\n",
            "only showing top 20 rows\n",
            "\n"
          ]
        }
      ]
    },
    {
      "cell_type": "code",
      "metadata": {
        "colab": {
          "base_uri": "https://localhost:8080/"
        },
        "id": "vC0kYFc9XuHZ",
        "outputId": "49c8909d-4fdf-4db9-826d-1efec6ae932b"
      },
      "source": [
        "df_Rating.printSchema()"
      ],
      "execution_count": null,
      "outputs": [
        {
          "output_type": "stream",
          "name": "stdout",
          "text": [
            "root\n",
            " |-- User-ID: string (nullable = true)\n",
            " |-- ISBN: string (nullable = true)\n",
            " |-- Book-Rating: string (nullable = true)\n",
            "\n"
          ]
        }
      ]
    },
    {
      "cell_type": "code",
      "metadata": {
        "colab": {
          "base_uri": "https://localhost:8080/"
        },
        "id": "baN5UgJ3XyYY",
        "outputId": "ecde1f58-1f1f-403a-c213-94fe4a0f1969"
      },
      "source": [
        "from pyspark.sql.types import IntegerType\n",
        "\n",
        "df_Rating = df_Rating.withColumn(\"Book-Rating\",df_Rating[\"Book-Rating\"].cast(IntegerType()))\n",
        "df_Rating = df_Rating.withColumn(\"User-ID\",df_Rating[\"User-ID\"].cast(IntegerType()))\n",
        "df_Rating.printSchema()"
      ],
      "execution_count": null,
      "outputs": [
        {
          "output_type": "stream",
          "name": "stdout",
          "text": [
            "root\n",
            " |-- User-ID: integer (nullable = true)\n",
            " |-- ISBN: string (nullable = true)\n",
            " |-- Book-Rating: integer (nullable = true)\n",
            "\n"
          ]
        }
      ]
    },
    {
      "cell_type": "markdown",
      "metadata": {
        "id": "ipojMRIdYqj4"
      },
      "source": [
        "Looking for NULL values within our columns"
      ]
    },
    {
      "cell_type": "code",
      "metadata": {
        "colab": {
          "base_uri": "https://localhost:8080/"
        },
        "id": "n8peHUs7Xyav",
        "outputId": "ecdc4866-b1df-4618-b943-d8eaa32e3fd9"
      },
      "source": [
        "from pyspark.sql.functions import col,isnan, when, count\n",
        "df_Rating.select([count(when(isnan(N) | col(N).isNull(), N)).alias(N) for N in df_Rating.columns]).show()"
      ],
      "execution_count": null,
      "outputs": [
        {
          "output_type": "stream",
          "name": "stdout",
          "text": [
            "+-------+----+-----------+\n",
            "|User-ID|ISBN|Book-Rating|\n",
            "+-------+----+-----------+\n",
            "|      0|   1|         15|\n",
            "+-------+----+-----------+\n",
            "\n"
          ]
        }
      ]
    },
    {
      "cell_type": "code",
      "metadata": {
        "colab": {
          "base_uri": "https://localhost:8080/"
        },
        "id": "u-DplXEAXydW",
        "outputId": "bf1610a6-e2f7-432d-e1f5-434496751993"
      },
      "source": [
        "df_Rating=df_Rating.dropna()\n",
        "df_Rating.select([count(when(isnan(N) | col(N).isNull(), N)).alias(N) for N in df_Rating.columns]).show()"
      ],
      "execution_count": null,
      "outputs": [
        {
          "output_type": "stream",
          "name": "stdout",
          "text": [
            "+-------+----+-----------+\n",
            "|User-ID|ISBN|Book-Rating|\n",
            "+-------+----+-----------+\n",
            "|      0|   0|          0|\n",
            "+-------+----+-----------+\n",
            "\n"
          ]
        }
      ]
    },
    {
      "cell_type": "markdown",
      "metadata": {
        "id": "wpZL8ldcbQxk"
      },
      "source": [
        "### Items Table"
      ]
    },
    {
      "cell_type": "code",
      "metadata": {
        "colab": {
          "base_uri": "https://localhost:8080/"
        },
        "id": "Sx8ffwb_MgpF",
        "outputId": "48af5312-63a3-4da6-c8c9-e7362f68e34c"
      },
      "source": [
        "items = items.withColumn('Year-of-Publication', regexp_replace('Year-of-Publication', '-', ' ')).withColumnRenamed('Year-of-Publication', 'Publication Year')\n",
        "df_items = items.select(['ISBN','Book-Title','Book-Author','Publication Year','Publisher'])\n",
        "df_items.show()"
      ],
      "execution_count": null,
      "outputs": [
        {
          "output_type": "stream",
          "name": "stdout",
          "text": [
            "+----------+--------------------+--------------------+----------------+--------------------+\n",
            "|      ISBN|          Book-Title|         Book-Author|Publication Year|           Publisher|\n",
            "+----------+--------------------+--------------------+----------------+--------------------+\n",
            "|0195153448| Classical Mythology|  Mark P. O. Morford|            2002|Oxford University...|\n",
            "|0002005018|        Clara Callan|Richard Bruce Wright|            2001|HarperFlamingo Ca...|\n",
            "|0060973129|Decision in Normandy|        Carlo D'Este|            1991|     HarperPerennial|\n",
            "|0374157065|Flu: The Story of...|    Gina Bari Kolata|            1999|Farrar Straus Giroux|\n",
            "|0393045218|The Mummies of Ur...|     E. J. W. Barber|            1999|W. W. Norton &amp...|\n",
            "|0399135782|The Kitchen God's...|             Amy Tan|            1991|    Putnam Pub Group|\n",
            "|0425176428|What If?: The Wor...|       Robert Cowley|            2000|Berkley Publishin...|\n",
            "|0671870432|     PLEADING GUILTY|         Scott Turow|            1993|          Audioworks|\n",
            "|0679425608|Under the Black F...|     David Cordingly|            1996|        Random House|\n",
            "|074322678X|Where You'll Find...|         Ann Beattie|            2002|            Scribner|\n",
            "|0771074670|Nights Below Stat...|David Adams Richards|            1988|     Emblem Editions|\n",
            "|080652121X|Hitler's Secret B...|          Adam Lebor|            2000|       Citadel Press|\n",
            "|0887841740|  The Middle Stories|         Sheila Heti|            2004|House of Anansi P...|\n",
            "|1552041778|            Jane Doe|        R. J. Kaiser|            1999|          Mira Books|\n",
            "|1558746218|A Second Chicken ...|       Jack Canfield|            1998|Health Communicat...|\n",
            "|1567407781|The Witchfinder (...|   Loren D. Estleman|            1998|Brilliance Audio ...|\n",
            "|1575663937|More Cunning Than...|  Robert Hendrickson|            1999|Kensington Publis...|\n",
            "|1881320189|Goodbye to the Bu...|        Julia Oliver|            1994|      River City Pub|\n",
            "|0440234743|       The Testament|        John Grisham|            1999|                Dell|\n",
            "|0452264464|Beloved (Plume Co...|       Toni Morrison|            1994|               Plume|\n",
            "+----------+--------------------+--------------------+----------------+--------------------+\n",
            "only showing top 20 rows\n",
            "\n"
          ]
        }
      ]
    },
    {
      "cell_type": "code",
      "metadata": {
        "colab": {
          "base_uri": "https://localhost:8080/"
        },
        "id": "L7JMV4scXygv",
        "outputId": "7a3c41dc-693a-4953-e503-36a7c4c7a854"
      },
      "source": [
        "df_items.printSchema()"
      ],
      "execution_count": null,
      "outputs": [
        {
          "output_type": "stream",
          "name": "stdout",
          "text": [
            "root\n",
            " |-- ISBN: string (nullable = true)\n",
            " |-- Book-Title: string (nullable = true)\n",
            " |-- Book-Author: string (nullable = true)\n",
            " |-- Publication Year: string (nullable = true)\n",
            " |-- Publisher: string (nullable = true)\n",
            "\n"
          ]
        }
      ]
    },
    {
      "cell_type": "markdown",
      "metadata": {
        "id": "YSPG22NbykPE"
      },
      "source": [
        "Looking for NULL values in Items Table"
      ]
    },
    {
      "cell_type": "code",
      "metadata": {
        "id": "orQvRZIZbXyG",
        "colab": {
          "base_uri": "https://localhost:8080/"
        },
        "outputId": "d44ae956-75cd-4012-d9d8-ef00c4768b9a"
      },
      "source": [
        "df_items.select([count(when(isnan(N) | col(N).isNull(), N)).alias(N) for N in df_items.columns]).show()"
      ],
      "execution_count": null,
      "outputs": [
        {
          "output_type": "stream",
          "name": "stdout",
          "text": [
            "+----+----------+-----------+----------------+---------+\n",
            "|ISBN|Book-Title|Book-Author|Publication Year|Publisher|\n",
            "+----+----------+-----------+----------------+---------+\n",
            "|   0|         0|        185|              25|        4|\n",
            "+----+----------+-----------+----------------+---------+\n",
            "\n"
          ]
        }
      ]
    },
    {
      "cell_type": "markdown",
      "metadata": {
        "id": "IzQF9YlgTGwP"
      },
      "source": [
        "Replacing NULL values with (0) Zero, only in the \"Publication Year\" column <br>\n",
        "and 'UnKnown', in String datatype columns"
      ]
    },
    {
      "cell_type": "code",
      "metadata": {
        "colab": {
          "base_uri": "https://localhost:8080/"
        },
        "id": "QyctQtGgUtaY",
        "outputId": "8a355eb1-20ab-4e1a-e565-1dfee1bb8700"
      },
      "source": [
        "df_items = df_items.na.fill(\"0\",[\"Publication Year\"])\n",
        "df_items = df_items.na.fill(\"unknown\",[\"Book-Author\"])\n",
        "df_items = df_items.na.fill(\"unknown\",[\"Publisher\"]).show()"
      ],
      "execution_count": null,
      "outputs": [
        {
          "output_type": "stream",
          "name": "stdout",
          "text": [
            "+----------+--------------------+--------------------+----------------+--------------------+\n",
            "|      ISBN|          Book-Title|         Book-Author|Publication Year|           Publisher|\n",
            "+----------+--------------------+--------------------+----------------+--------------------+\n",
            "|0195153448| Classical Mythology|  Mark P. O. Morford|            2002|Oxford University...|\n",
            "|0002005018|        Clara Callan|Richard Bruce Wright|            2001|HarperFlamingo Ca...|\n",
            "|0060973129|Decision in Normandy|        Carlo D'Este|            1991|     HarperPerennial|\n",
            "|0374157065|Flu: The Story of...|    Gina Bari Kolata|            1999|Farrar Straus Giroux|\n",
            "|0393045218|The Mummies of Ur...|     E. J. W. Barber|            1999|W. W. Norton &amp...|\n",
            "|0399135782|The Kitchen God's...|             Amy Tan|            1991|    Putnam Pub Group|\n",
            "|0425176428|What If?: The Wor...|       Robert Cowley|            2000|Berkley Publishin...|\n",
            "|0671870432|     PLEADING GUILTY|         Scott Turow|            1993|          Audioworks|\n",
            "|0679425608|Under the Black F...|     David Cordingly|            1996|        Random House|\n",
            "|074322678X|Where You'll Find...|         Ann Beattie|            2002|            Scribner|\n",
            "|0771074670|Nights Below Stat...|David Adams Richards|            1988|     Emblem Editions|\n",
            "|080652121X|Hitler's Secret B...|          Adam Lebor|            2000|       Citadel Press|\n",
            "|0887841740|  The Middle Stories|         Sheila Heti|            2004|House of Anansi P...|\n",
            "|1552041778|            Jane Doe|        R. J. Kaiser|            1999|          Mira Books|\n",
            "|1558746218|A Second Chicken ...|       Jack Canfield|            1998|Health Communicat...|\n",
            "|1567407781|The Witchfinder (...|   Loren D. Estleman|            1998|Brilliance Audio ...|\n",
            "|1575663937|More Cunning Than...|  Robert Hendrickson|            1999|Kensington Publis...|\n",
            "|1881320189|Goodbye to the Bu...|        Julia Oliver|            1994|      River City Pub|\n",
            "|0440234743|       The Testament|        John Grisham|            1999|                Dell|\n",
            "|0452264464|Beloved (Plume Co...|       Toni Morrison|            1994|               Plume|\n",
            "+----------+--------------------+--------------------+----------------+--------------------+\n",
            "only showing top 20 rows\n",
            "\n"
          ]
        }
      ]
    },
    {
      "cell_type": "markdown",
      "metadata": {
        "id": "eNOlB-F9fseM"
      },
      "source": [
        "## Users Table"
      ]
    },
    {
      "cell_type": "code",
      "metadata": {
        "colab": {
          "base_uri": "https://localhost:8080/"
        },
        "id": "--PaBB7ehhdC",
        "outputId": "cb0faf7e-f794-4414-96ad-e99fb95ce97d"
      },
      "source": [
        "df_users = users.select(['User-ID','Location','Age'])\n",
        "df_users.show()"
      ],
      "execution_count": null,
      "outputs": [
        {
          "output_type": "stream",
          "name": "stdout",
          "text": [
            "+-------+--------------------+----+\n",
            "|User-ID|            Location| Age|\n",
            "+-------+--------------------+----+\n",
            "|      1|  nyc, new york, usa|null|\n",
            "|      2|stockton, califor...|  18|\n",
            "|      3|moscow, yukon ter...|null|\n",
            "|      4|porto, v.n.gaia, ...|  17|\n",
            "|      5|farnborough, hant...|null|\n",
            "|      6|santa monica, cal...|  61|\n",
            "|      7| washington, dc, usa|null|\n",
            "|      8|timmins, ontario,...|null|\n",
            "|      9|germantown, tenne...|null|\n",
            "|     10|albacete, wiscons...|  26|\n",
            "|     11|melbourne, victor...|  14|\n",
            "|     12|fort bragg, calif...|null|\n",
            "|     13|barcelona, barcel...|  26|\n",
            "|     14|mediapolis, iowa,...|null|\n",
            "|     15|calgary, alberta,...|null|\n",
            "|     16|albuquerque, new ...|null|\n",
            "|     17|chesapeake, virgi...|null|\n",
            "|     18|rio de janeiro, r...|  25|\n",
            "|     19|           weston, ,|  14|\n",
            "|     20|langhorne, pennsy...|  19|\n",
            "+-------+--------------------+----+\n",
            "only showing top 20 rows\n",
            "\n"
          ]
        }
      ]
    },
    {
      "cell_type": "code",
      "metadata": {
        "colab": {
          "base_uri": "https://localhost:8080/"
        },
        "id": "K_muJJudHDL3",
        "outputId": "f455e303-2fcc-4d20-edf7-8b0c491101c5"
      },
      "source": [
        "df_users.printSchema()"
      ],
      "execution_count": null,
      "outputs": [
        {
          "output_type": "stream",
          "name": "stdout",
          "text": [
            "root\n",
            " |-- User-ID: string (nullable = true)\n",
            " |-- Location: string (nullable = true)\n",
            " |-- Age: string (nullable = true)\n",
            "\n"
          ]
        }
      ]
    },
    {
      "cell_type": "code",
      "metadata": {
        "colab": {
          "base_uri": "https://localhost:8080/"
        },
        "id": "7Dji6Rv7vrdQ",
        "outputId": "31c560c3-1317-4fa1-f1a1-24dc9b4a2f84"
      },
      "source": [
        "df_users.select([count(when(isnan(N) | col(N).isNull(), N)).alias(N) for N in df_users.columns]).show()"
      ],
      "execution_count": null,
      "outputs": [
        {
          "output_type": "stream",
          "name": "stdout",
          "text": [
            "+-------+--------+------+\n",
            "|User-ID|Location|   Age|\n",
            "+-------+--------+------+\n",
            "|      0|       1|110510|\n",
            "+-------+--------+------+\n",
            "\n"
          ]
        }
      ]
    },
    {
      "cell_type": "markdown",
      "metadata": {
        "id": "jH9BV3tPnBH0"
      },
      "source": [
        "Extracting the 'Location' column into 3 new columns:\n",
        "1. City\n",
        "2. Country\n",
        "3. Region"
      ]
    },
    {
      "cell_type": "code",
      "metadata": {
        "colab": {
          "base_uri": "https://localhost:8080/"
        },
        "id": "Mfb7TG_WnZ1B",
        "outputId": "10429046-6baf-4979-c5ad-4444dcbfa3b6"
      },
      "source": [
        "df_users = df_users.withColumn('City', split(df_users['Location'], ',').getItem(0))\\\n",
        "       .withColumn('Region', split(df_users['Location'], ',').getItem(1))\\\n",
        "       .withColumn('Country', split(df_users['Location'], ',').getItem(2))\n",
        "df_users.show(truncate=False)"
      ],
      "execution_count": null,
      "outputs": [
        {
          "output_type": "stream",
          "name": "stdout",
          "text": [
            "+-------+--------------------------------------+----+--------------+----------------+---------------+\n",
            "|User-ID|Location                              |Age |City          |Region          |Country        |\n",
            "+-------+--------------------------------------+----+--------------+----------------+---------------+\n",
            "|1      |nyc, new york, usa                    |null|nyc           | new york       | usa           |\n",
            "|2      |stockton, california, usa             |18  |stockton      | california     | usa           |\n",
            "|3      |moscow, yukon territory, russia       |null|moscow        | yukon territory| russia        |\n",
            "|4      |porto, v.n.gaia, portugal             |17  |porto         | v.n.gaia       | portugal      |\n",
            "|5      |farnborough, hants, united kingdom    |null|farnborough   | hants          | united kingdom|\n",
            "|6      |santa monica, california, usa         |61  |santa monica  | california     | usa           |\n",
            "|7      |washington, dc, usa                   |null|washington    | dc             | usa           |\n",
            "|8      |timmins, ontario, canada              |null|timmins       | ontario        | canada        |\n",
            "|9      |germantown, tennessee, usa            |null|germantown    | tennessee      | usa           |\n",
            "|10     |albacete, wisconsin, spain            |26  |albacete      | wisconsin      | spain         |\n",
            "|11     |melbourne, victoria, australia        |14  |melbourne     | victoria       | australia     |\n",
            "|12     |fort bragg, california, usa           |null|fort bragg    | california     | usa           |\n",
            "|13     |barcelona, barcelona, spain           |26  |barcelona     | barcelona      | spain         |\n",
            "|14     |mediapolis, iowa, usa                 |null|mediapolis    | iowa           | usa           |\n",
            "|15     |calgary, alberta, canada              |null|calgary       | alberta        | canada        |\n",
            "|16     |albuquerque, new mexico, usa          |null|albuquerque   | new mexico     | usa           |\n",
            "|17     |chesapeake, virginia, usa             |null|chesapeake    | virginia       | usa           |\n",
            "|18     |rio de janeiro, rio de janeiro, brazil|25  |rio de janeiro| rio de janeiro | brazil        |\n",
            "|19     |weston, ,                             |14  |weston        |                |               |\n",
            "|20     |langhorne, pennsylvania, usa          |19  |langhorne     | pennsylvania   | usa           |\n",
            "+-------+--------------------------------------+----+--------------+----------------+---------------+\n",
            "only showing top 20 rows\n",
            "\n"
          ]
        }
      ]
    },
    {
      "cell_type": "code",
      "metadata": {
        "colab": {
          "base_uri": "https://localhost:8080/"
        },
        "id": "9r8ObYIGxuVJ",
        "outputId": "f1e4df27-2a24-4c4e-fa70-fe56c196623c"
      },
      "source": [
        "# Droping the column 'Location'\n",
        "df_users = df_users.select(['User-ID','Age','City','Region','Country'])\n",
        "df_users.show()"
      ],
      "execution_count": null,
      "outputs": [
        {
          "output_type": "stream",
          "name": "stdout",
          "text": [
            "+-------+----+--------------+----------------+---------------+\n",
            "|User-ID| Age|          City|          Region|        Country|\n",
            "+-------+----+--------------+----------------+---------------+\n",
            "|      1|null|           nyc|        new york|            usa|\n",
            "|      2|  18|      stockton|      california|            usa|\n",
            "|      3|null|        moscow| yukon territory|         russia|\n",
            "|      4|  17|         porto|        v.n.gaia|       portugal|\n",
            "|      5|null|   farnborough|           hants| united kingdom|\n",
            "|      6|  61|  santa monica|      california|            usa|\n",
            "|      7|null|    washington|              dc|            usa|\n",
            "|      8|null|       timmins|         ontario|         canada|\n",
            "|      9|null|    germantown|       tennessee|            usa|\n",
            "|     10|  26|      albacete|       wisconsin|          spain|\n",
            "|     11|  14|     melbourne|        victoria|      australia|\n",
            "|     12|null|    fort bragg|      california|            usa|\n",
            "|     13|  26|     barcelona|       barcelona|          spain|\n",
            "|     14|null|    mediapolis|            iowa|            usa|\n",
            "|     15|null|       calgary|         alberta|         canada|\n",
            "|     16|null|   albuquerque|      new mexico|            usa|\n",
            "|     17|null|    chesapeake|        virginia|            usa|\n",
            "|     18|  25|rio de janeiro|  rio de janeiro|         brazil|\n",
            "|     19|  14|        weston|                |               |\n",
            "|     20|  19|     langhorne|    pennsylvania|            usa|\n",
            "+-------+----+--------------+----------------+---------------+\n",
            "only showing top 20 rows\n",
            "\n"
          ]
        }
      ]
    },
    {
      "cell_type": "markdown",
      "metadata": {
        "id": "MlJ8HGbaT6Dt"
      },
      "source": [
        "### Amir (Help needed)\n",
        "we have an unresuvled issue that we could not fix by our selfs. \n",
        "<br>\n",
        "After splitting the 'Location' column, 2 of the new columns have some NAN values in them (row 19 for example).\n",
        "<br>\n",
        "Bellow you can see 3 different approaches that i used in order to convert NAN values to string or NULL:\n",
        "1. To Dellete all missing values\n",
        "2. To Fill missing values with NULL or string (like \"UnKnown\")\n",
        "\n",
        "The syntex is correct and the command is running, but the NAN values was not alttered/replaced. why? :-( \n",
        "<br>\n",
        "That cause us another issue, since i cant expload the data to any type of file - becouse of that...I keep getting errors.\n"
      ]
    },
    {
      "cell_type": "code",
      "metadata": {
        "id": "QlP9YmhbS3k1"
      },
      "source": [
        "df2=df_users.dropna(subset=['City|Region','Country'])\n",
        "df2.show()"
      ],
      "execution_count": null,
      "outputs": []
    },
    {
      "cell_type": "code",
      "metadata": {
        "colab": {
          "base_uri": "https://localhost:8080/"
        },
        "id": "Us6y8z-URN__",
        "outputId": "4c1bcee8-e9ba-4ff4-c005-7730a0330274"
      },
      "source": [
        "df3 = df_users.na.fill(\"UnKnown\",[\"Region\"]).show()"
      ],
      "execution_count": null,
      "outputs": [
        {
          "output_type": "stream",
          "name": "stdout",
          "text": [
            "+-------+----+--------------+----------------+---------------+\n",
            "|User-ID| Age|          City|          Region|        Country|\n",
            "+-------+----+--------------+----------------+---------------+\n",
            "|      1|null|           nyc|        new york|            usa|\n",
            "|      2|  18|      stockton|      california|            usa|\n",
            "|      3|null|        moscow| yukon territory|         russia|\n",
            "|      4|  17|         porto|        v.n.gaia|       portugal|\n",
            "|      5|null|   farnborough|           hants| united kingdom|\n",
            "|      6|  61|  santa monica|      california|            usa|\n",
            "|      7|null|    washington|              dc|            usa|\n",
            "|      8|null|       timmins|         ontario|         canada|\n",
            "|      9|null|    germantown|       tennessee|            usa|\n",
            "|     10|  26|      albacete|       wisconsin|          spain|\n",
            "|     11|  14|     melbourne|        victoria|      australia|\n",
            "|     12|null|    fort bragg|      california|            usa|\n",
            "|     13|  26|     barcelona|       barcelona|          spain|\n",
            "|     14|null|    mediapolis|            iowa|            usa|\n",
            "|     15|null|       calgary|         alberta|         canada|\n",
            "|     16|null|   albuquerque|      new mexico|            usa|\n",
            "|     17|null|    chesapeake|        virginia|            usa|\n",
            "|     18|  25|rio de janeiro|  rio de janeiro|         brazil|\n",
            "|     19|  14|        weston|                |               |\n",
            "|     20|  19|     langhorne|    pennsylvania|            usa|\n",
            "+-------+----+--------------+----------------+---------------+\n",
            "only showing top 20 rows\n",
            "\n"
          ]
        }
      ]
    },
    {
      "cell_type": "code",
      "metadata": {
        "id": "Cm6fTzPdXbRg"
      },
      "source": [
        "## Dosnt work :( tried to replace missing values with an 'UnKnown' string.\n",
        "##df_users[['Region','Country']] = df_users[['Region','Country']].fillna('UnKnown') # Specific columns\n",
        "\n",
        "## I get - TypeError: 'NoneType' object is not subscriptable"
      ],
      "execution_count": null,
      "outputs": []
    },
    {
      "cell_type": "code",
      "metadata": {
        "colab": {
          "base_uri": "https://localhost:8080/"
        },
        "id": "Dwr50ACJwGiu",
        "outputId": "a860523b-5c1a-4f6b-ad12-ff00b5b4ebf1"
      },
      "source": [
        "df_users = df_users.na.fill(\"0\",[\"Age\"]).show()"
      ],
      "execution_count": null,
      "outputs": [
        {
          "output_type": "stream",
          "name": "stdout",
          "text": [
            "+-------+---+--------------+----------------+---------------+\n",
            "|User-ID|Age|          City|          Region|        Country|\n",
            "+-------+---+--------------+----------------+---------------+\n",
            "|      1|  0|           nyc|        new york|            usa|\n",
            "|      2| 18|      stockton|      california|            usa|\n",
            "|      3|  0|        moscow| yukon territory|         russia|\n",
            "|      4| 17|         porto|        v.n.gaia|       portugal|\n",
            "|      5|  0|   farnborough|           hants| united kingdom|\n",
            "|      6| 61|  santa monica|      california|            usa|\n",
            "|      7|  0|    washington|              dc|            usa|\n",
            "|      8|  0|       timmins|         ontario|         canada|\n",
            "|      9|  0|    germantown|       tennessee|            usa|\n",
            "|     10| 26|      albacete|       wisconsin|          spain|\n",
            "|     11| 14|     melbourne|        victoria|      australia|\n",
            "|     12|  0|    fort bragg|      california|            usa|\n",
            "|     13| 26|     barcelona|       barcelona|          spain|\n",
            "|     14|  0|    mediapolis|            iowa|            usa|\n",
            "|     15|  0|       calgary|         alberta|         canada|\n",
            "|     16|  0|   albuquerque|      new mexico|            usa|\n",
            "|     17|  0|    chesapeake|        virginia|            usa|\n",
            "|     18| 25|rio de janeiro|  rio de janeiro|         brazil|\n",
            "|     19| 14|        weston|                |               |\n",
            "|     20| 19|     langhorne|    pennsylvania|            usa|\n",
            "+-------+---+--------------+----------------+---------------+\n",
            "only showing top 20 rows\n",
            "\n"
          ]
        }
      ]
    },
    {
      "cell_type": "markdown",
      "metadata": {
        "id": "9NYxuneOYktZ"
      },
      "source": [
        "# Data Analysis"
      ]
    },
    {
      "cell_type": "code",
      "metadata": {
        "id": "o9eDZdimhT7Q"
      },
      "source": [
        "#averageRatings = df_items.groupBy('movieId').avg('rating')"
      ],
      "execution_count": null,
      "outputs": []
    },
    {
      "cell_type": "code",
      "metadata": {
        "id": "KGvqRZH2hndA"
      },
      "source": [
        "#topTen = averageRatings.orderBy('avg(rating)').take(10)"
      ],
      "execution_count": null,
      "outputs": []
    },
    {
      "cell_type": "code",
      "metadata": {
        "colab": {
          "base_uri": "https://localhost:8080/"
        },
        "id": "eCjc9-9Ciwrk",
        "outputId": "49cd9715-0178-43f7-c999-4f8e23563e50"
      },
      "source": [
        "df_j1 = items.join(ratings,items[\"ISBN\"] == ratings[\"ISBN\"]).show()"
      ],
      "execution_count": null,
      "outputs": [
        {
          "output_type": "stream",
          "name": "stdout",
          "text": [
            "+----+----------+---+--------------------+---+--------------------+---+----------------+---+--------------------+---+--------------------+---+--------------------+---+--------------------+---+----+-------+----+----------+----+---+----+-----------+----+----+---+\n",
            "| _c0|      ISBN| ;2|          Book-Title| ;4|         Book-Author| ;6|Publication Year| ;8|           Publisher|;10|         Image-URL-S|;12|         Image-URL-M|;14|         Image-URL-L|  \"| _c0|User-ID| _c2|      ISBN| _c4|  ;| _c6|Book-Rating| _c8| _c9| ,,|\n",
            "+----+----------+---+--------------------+---+--------------------+---+----------------+---+--------------------+---+--------------------+---+--------------------+---+--------------------+---+----+-------+----+----------+----+---+----+-----------+----+----+---+\n",
            "|null|0002234947|  ;|Miss Hobbema Pageant|  ;|       W.P. Kinsella|  ;|            1990|  ;|Harpercollins Juv...|  ;|http://images.ama...|  ;|http://images.ama...|  ;|http://images.ama...|  \"|null|  39608|null|0002234947|null|  ;|null|          0|null|null| ,,|\n",
            "|null|0002234947|  ;|Miss Hobbema Pageant|  ;|       W.P. Kinsella|  ;|            1990|  ;|Harpercollins Juv...|  ;|http://images.ama...|  ;|http://images.ama...|  ;|http://images.ama...|  \"|null| 219445|null|0002234947|null|  ;|null|          0|null|null| ,,|\n",
            "|null|0002234947|  ;|Miss Hobbema Pageant|  ;|       W.P. Kinsella|  ;|            1990|  ;|Harpercollins Juv...|  ;|http://images.ama...|  ;|http://images.ama...|  ;|http://images.ama...|  \"|null| 227275|null|0002234947|null|  ;|null|          0|null|null| ,,|\n",
            "|null|0007640617|  ;|  Energize Your Life|  ;|          Nic Rowley|  ;|            2002|  ;| Thorsons Publishers|  ;|http://images.ama...|  ;|http://images.ama...|  ;|http://images.ama...|  \"|null| 189334|null|0007640617|null|  ;|null|          0|null|null| ,,|\n",
            "|null|0020444400|  ;|The voyage of the...|  ;|          C. S Lewis|  ;|            1986|  ;|             Collier|  ;|http://images.ama...|  ;|http://images.ama...|  ;|http://images.ama...|  \"|null| 207782|null|0020444400|null|  ;|null|          9|null|null| ,,|\n",
            "|null|0025483307|  ;|Stranger in Two W...|  ;|         Jean Harris|  ;|            1986|  ;|Simon &amp; Schuster|  ;|http://images.ama...|  ;|http://images.ama...|  ;|http://images.ama...|  \"|null|  61619|null|0025483307|null|  ;|null|          0|null|null| ,,|\n",
            "|null|0028622480|  ;|The First-Book Ma...|  ;|       Jason Shinder|  ;|            1998|  ;|MacMillan Publish...|  ;|http://images.ama...|  ;|http://images.ama...|  ;|http://images.ama...|  \"|null|  65853|null|0028622480|null|  ;|null|          7|null|null| ,,|\n",
            "|null|0028622480|  ;|The First-Book Ma...|  ;|       Jason Shinder|  ;|            1998|  ;|MacMillan Publish...|  ;|http://images.ama...|  ;|http://images.ama...|  ;|http://images.ama...|  \"|null| 225595|null|0028622480|null|  ;|null|         10|null|null| ,,|\n",
            "|null|0028628616|  ;|The Complete Idio...|  ;|         Jenna Holst|  ;|            1998|  ;|Macmillan Distrib...|  ;|http://images.ama...|  ;|http://images.ama...|  ;|http://images.ama...|  \"|null|  73196|null|0028628616|null|  ;|null|          0|null|null| ,,|\n",
            "|null|0060117079|  ;|   Operation Apricot|  ;|         C.A. Haddad|  ;|            1977|  ;|       Harpercollins|  ;|http://images.ama...|  ;|http://images.ama...|  ;|http://images.ama...|  \"|null| 169181|null|0060117079|null|  ;|null|          0|null|null| ,,|\n",
            "|null|0060131942|  ;|        The practice|  ;|  Alan Edward Nourse|  ;|            1978|  ;|    Harper &amp; Row|  ;|http://images.ama...|  ;|http://images.ama...|  ;|http://images.ama...|  \"|null| 170575|null|0060131942|null|  ;|null|          0|null|null| ,,|\n",
            "|null|0060160772|  ;|Peace, Love and H...|  ;|Bernie S., M.D. S...|  ;|            1989|  ;|       Harpercollins|  ;|http://images.ama...|  ;|http://images.ama...|  ;|http://images.ama...|  \"|null|  36836|null|0060160772|null|  ;|null|          0|null|null| ,,|\n",
            "|null|0060160772|  ;|Peace, Love and H...|  ;|Bernie S., M.D. S...|  ;|            1989|  ;|       Harpercollins|  ;|http://images.ama...|  ;|http://images.ama...|  ;|http://images.ama...|  \"|null|  57205|null|0060160772|null|  ;|null|          0|null|null| ,,|\n",
            "|null|0060160772|  ;|Peace, Love and H...|  ;|Bernie S., M.D. S...|  ;|            1989|  ;|       Harpercollins|  ;|http://images.ama...|  ;|http://images.ama...|  ;|http://images.ama...|  \"|null| 124363|null|0060160772|null|  ;|null|          0|null|null| ,,|\n",
            "|null|0060160772|  ;|Peace, Love and H...|  ;|Bernie S., M.D. S...|  ;|            1989|  ;|       Harpercollins|  ;|http://images.ama...|  ;|http://images.ama...|  ;|http://images.ama...|  \"|null| 128835|null|0060160772|null|  ;|null|         10|null|null| ,,|\n",
            "|null|0060160772|  ;|Peace, Love and H...|  ;|Bernie S., M.D. S...|  ;|            1989|  ;|       Harpercollins|  ;|http://images.ama...|  ;|http://images.ama...|  ;|http://images.ama...|  \"|null| 131046|null|0060160772|null|  ;|null|          0|null|null| ,,|\n",
            "|null|0060160772|  ;|Peace, Love and H...|  ;|Bernie S., M.D. S...|  ;|            1989|  ;|       Harpercollins|  ;|http://images.ama...|  ;|http://images.ama...|  ;|http://images.ama...|  \"|null| 136205|null|0060160772|null|  ;|null|          0|null|null| ,,|\n",
            "|null|0060160772|  ;|Peace, Love and H...|  ;|Bernie S., M.D. S...|  ;|            1989|  ;|       Harpercollins|  ;|http://images.ama...|  ;|http://images.ama...|  ;|http://images.ama...|  \"|null| 170227|null|0060160772|null|  ;|null|          0|null|null| ,,|\n",
            "|null|0060160772|  ;|Peace, Love and H...|  ;|Bernie S., M.D. S...|  ;|            1989|  ;|       Harpercollins|  ;|http://images.ama...|  ;|http://images.ama...|  ;|http://images.ama...|  \"|null| 230522|null|0060160772|null|  ;|null|          0|null|null| ,,|\n",
            "|null|0060160772|  ;|Peace, Love and H...|  ;|Bernie S., M.D. S...|  ;|            1989|  ;|       Harpercollins|  ;|http://images.ama...|  ;|http://images.ama...|  ;|http://images.ama...|  \"|null| 242445|null|0060160772|null|  ;|null|          0|null|null| ,,|\n",
            "+----+----------+---+--------------------+---+--------------------+---+----------------+---+--------------------+---+--------------------+---+--------------------+---+--------------------+---+----+-------+----+----------+----+---+----+-----------+----+----+---+\n",
            "only showing top 20 rows\n",
            "\n"
          ]
        }
      ]
    },
    {
      "cell_type": "markdown",
      "metadata": {
        "id": "nDcmdrydnBLi"
      },
      "source": [
        ""
      ]
    },
    {
      "cell_type": "code",
      "metadata": {
        "id": "ZDGQgD6Lk2Yx"
      },
      "source": [
        ""
      ],
      "execution_count": null,
      "outputs": []
    },
    {
      "cell_type": "code",
      "metadata": {
        "id": "stwBCWJakVai"
      },
      "source": [
        ""
      ],
      "execution_count": null,
      "outputs": []
    },
    {
      "cell_type": "code",
      "metadata": {
        "colab": {
          "base_uri": "https://localhost:8080/"
        },
        "id": "WvozXckKgrVg",
        "outputId": "2cd2f4e4-1227-4852-8caf-173b8a20e25e"
      },
      "source": [
        "items.show()"
      ],
      "execution_count": null,
      "outputs": [
        {
          "output_type": "stream",
          "name": "stdout",
          "text": [
            "+----+----------+---+--------------------+---+--------------------+---+----------------+---+--------------------+---+--------------------+---+--------------------+---+--------------------+---+\n",
            "| _c0|      ISBN| ;2|          Book-Title| ;4|         Book-Author| ;6|Publication Year| ;8|           Publisher|;10|         Image-URL-S|;12|         Image-URL-M|;14|         Image-URL-L|  \"|\n",
            "+----+----------+---+--------------------+---+--------------------+---+----------------+---+--------------------+---+--------------------+---+--------------------+---+--------------------+---+\n",
            "|null|0195153448|  ;| Classical Mythology|  ;|  Mark P. O. Morford|  ;|            2002|  ;|Oxford University...|  ;|http://images.ama...|  ;|http://images.ama...|  ;|http://images.ama...|  \"|\n",
            "|null|0002005018|  ;|        Clara Callan|  ;|Richard Bruce Wright|  ;|            2001|  ;|HarperFlamingo Ca...|  ;|http://images.ama...|  ;|http://images.ama...|  ;|http://images.ama...|  \"|\n",
            "|null|0060973129|  ;|Decision in Normandy|  ;|        Carlo D'Este|  ;|            1991|  ;|     HarperPerennial|  ;|http://images.ama...|  ;|http://images.ama...|  ;|http://images.ama...|  \"|\n",
            "|null|0374157065|  ;|Flu: The Story of...|  ;|    Gina Bari Kolata|  ;|            1999|  ;|Farrar Straus Giroux|  ;|http://images.ama...|  ;|http://images.ama...|  ;|http://images.ama...|  \"|\n",
            "|null|0393045218|  ;|The Mummies of Ur...|  ;|     E. J. W. Barber|  ;|            1999|  ;|W. W. Norton &amp...|  ;|http://images.ama...|  ;|http://images.ama...|  ;|http://images.ama...|  \"|\n",
            "|null|0399135782|  ;|The Kitchen God's...|  ;|             Amy Tan|  ;|            1991|  ;|    Putnam Pub Group|  ;|http://images.ama...|  ;|http://images.ama...|  ;|http://images.ama...|  \"|\n",
            "|null|0425176428|  ;|What If?: The Wor...|  ;|       Robert Cowley|  ;|            2000|  ;|Berkley Publishin...|  ;|http://images.ama...|  ;|http://images.ama...|  ;|http://images.ama...|  \"|\n",
            "|null|0671870432|  ;|     PLEADING GUILTY|  ;|         Scott Turow|  ;|            1993|  ;|          Audioworks|  ;|http://images.ama...|  ;|http://images.ama...|  ;|http://images.ama...|  \"|\n",
            "|null|0679425608|  ;|Under the Black F...|  ;|     David Cordingly|  ;|            1996|  ;|        Random House|  ;|http://images.ama...|  ;|http://images.ama...|  ;|http://images.ama...|  \"|\n",
            "|null|074322678X|  ;|Where You'll Find...|  ;|         Ann Beattie|  ;|            2002|  ;|            Scribner|  ;|http://images.ama...|  ;|http://images.ama...|  ;|http://images.ama...|  \"|\n",
            "|null|0771074670|  ;|Nights Below Stat...|  ;|David Adams Richards|  ;|            1988|  ;|     Emblem Editions|  ;|http://images.ama...|  ;|http://images.ama...|  ;|http://images.ama...|  \"|\n",
            "|null|080652121X|  ;|Hitler's Secret B...|  ;|          Adam Lebor|  ;|            2000|  ;|       Citadel Press|  ;|http://images.ama...|  ;|http://images.ama...|  ;|http://images.ama...|  \"|\n",
            "|null|0887841740|  ;|  The Middle Stories|  ;|         Sheila Heti|  ;|            2004|  ;|House of Anansi P...|  ;|http://images.ama...|  ;|http://images.ama...|  ;|http://images.ama...|  \"|\n",
            "|null|1552041778|  ;|            Jane Doe|  ;|        R. J. Kaiser|  ;|            1999|  ;|          Mira Books|  ;|http://images.ama...|  ;|http://images.ama...|  ;|http://images.ama...|  \"|\n",
            "|null|1558746218|  ;|A Second Chicken ...|  ;|       Jack Canfield|  ;|            1998|  ;|Health Communicat...|  ;|http://images.ama...|  ;|http://images.ama...|  ;|http://images.ama...|  \"|\n",
            "|null|1567407781|  ;|The Witchfinder (...|  ;|   Loren D. Estleman|  ;|            1998|  ;|Brilliance Audio ...|  ;|http://images.ama...|  ;|http://images.ama...|  ;|http://images.ama...|  \"|\n",
            "|null|1575663937|  ;|More Cunning Than...|  ;|  Robert Hendrickson|  ;|            1999|  ;|Kensington Publis...|  ;|http://images.ama...|  ;|http://images.ama...|  ;|http://images.ama...|  \"|\n",
            "|null|1881320189|  ;|Goodbye to the Bu...|  ;|        Julia Oliver|  ;|            1994|  ;|      River City Pub|  ;|http://images.ama...|  ;|http://images.ama...|  ;|http://images.ama...|  \"|\n",
            "|null|0440234743|  ;|       The Testament|  ;|        John Grisham|  ;|            1999|  ;|                Dell|  ;|http://images.ama...|  ;|http://images.ama...|  ;|http://images.ama...|  \"|\n",
            "|null|0452264464|  ;|Beloved (Plume Co...|  ;|       Toni Morrison|  ;|            1994|  ;|               Plume|  ;|http://images.ama...|  ;|http://images.ama...|  ;|http://images.ama...|  \"|\n",
            "+----+----------+---+--------------------+---+--------------------+---+----------------+---+--------------------+---+--------------------+---+--------------------+---+--------------------+---+\n",
            "only showing top 20 rows\n",
            "\n"
          ]
        }
      ]
    },
    {
      "cell_type": "code",
      "metadata": {
        "id": "nLNA7JxcYr7_"
      },
      "source": [
        "items.groupBy(\"Publication Year\").count().show()"
      ],
      "execution_count": null,
      "outputs": []
    },
    {
      "cell_type": "code",
      "metadata": {
        "id": "vA9w4qyzYr-q"
      },
      "source": [
        ""
      ],
      "execution_count": null,
      "outputs": []
    },
    {
      "cell_type": "code",
      "metadata": {
        "id": "S4fKGhMfYsBC"
      },
      "source": [
        ""
      ],
      "execution_count": null,
      "outputs": []
    },
    {
      "cell_type": "code",
      "metadata": {
        "id": "b-eC-CCgYsEe"
      },
      "source": [
        ""
      ],
      "execution_count": null,
      "outputs": []
    },
    {
      "cell_type": "markdown",
      "metadata": {
        "id": "HNpQmhRAuFop"
      },
      "source": [
        "# Export new dataset to CSV"
      ]
    },
    {
      "cell_type": "code",
      "metadata": {
        "id": "5vXkVgBxzMqa"
      },
      "source": [
        "##df_users.repartition(1).write.format('com.databricks.spark.csv').save(\"/content/drive/MyDrive/BD Project/new_users.csv\",header = 'true')\n"
      ],
      "execution_count": null,
      "outputs": []
    },
    {
      "cell_type": "code",
      "metadata": {
        "id": "mkFU4WrlzMtz"
      },
      "source": [
        "##df_users.toPandas().to_csv('new_users.csv')"
      ],
      "execution_count": null,
      "outputs": []
    },
    {
      "cell_type": "code",
      "metadata": {
        "id": "AAZsfl_5pfa5",
        "colab": {
          "base_uri": "https://localhost:8080/",
          "height": 162
        },
        "outputId": "5bfd75fe-20f6-456d-a5f5-759518a8b2dc"
      },
      "source": [
        "spark.stop()"
      ],
      "execution_count": null,
      "outputs": [
        {
          "output_type": "error",
          "ename": "NameError",
          "evalue": "ignored",
          "traceback": [
            "\u001b[0;31m---------------------------------------------------------------------------\u001b[0m",
            "\u001b[0;31mNameError\u001b[0m                                 Traceback (most recent call last)",
            "\u001b[0;32m<ipython-input-1-5c6b4d5d9db0>\u001b[0m in \u001b[0;36m<module>\u001b[0;34m()\u001b[0m\n\u001b[0;32m----> 1\u001b[0;31m \u001b[0mspark\u001b[0m\u001b[0;34m.\u001b[0m\u001b[0mstop\u001b[0m\u001b[0;34m(\u001b[0m\u001b[0;34m)\u001b[0m\u001b[0;34m\u001b[0m\u001b[0;34m\u001b[0m\u001b[0m\n\u001b[0m",
            "\u001b[0;31mNameError\u001b[0m: name 'spark' is not defined"
          ]
        }
      ]
    },
    {
      "cell_type": "code",
      "metadata": {
        "id": "EjpXQZns9ifJ"
      },
      "source": [
        ""
      ],
      "execution_count": null,
      "outputs": []
    },
    {
      "cell_type": "code",
      "metadata": {
        "id": "RkguxfJTV76Q"
      },
      "source": [
        ""
      ],
      "execution_count": null,
      "outputs": []
    },
    {
      "cell_type": "code",
      "metadata": {
        "id": "KqFvlnztV721"
      },
      "source": [
        ""
      ],
      "execution_count": null,
      "outputs": []
    }
  ]
}